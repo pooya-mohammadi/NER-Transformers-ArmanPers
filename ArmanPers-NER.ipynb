{
 "cells": [
  {
   "cell_type": "markdown",
   "metadata": {},
   "source": [
    "[![Open In Colab](https://colab.research.google.com/assets/colab-badge.svg)](https://colab.research.google.com/github.com/pooya-mohammadi/NER-Transformers-ArmanPers/blob/main/ArmanPers-NER.ipynb)"
   ]
  },
  {
   "cell_type": "markdown",
   "metadata": {
    "id": "X4cRE8IbIrIV"
   },
   "source": [
    "If you're opening this Notebook on colab, you will probably need to install 🤗 Transformers and 🤗 Datasets. Uncomment the following cell and run it."
   ]
  },
  {
   "cell_type": "code",
   "execution_count": 1,
   "metadata": {
    "id": "MOsHUjgdIrIW"
   },
   "outputs": [],
   "source": [
    "#! pip install datasets transformers seqeval"
   ]
  },
  {
   "cell_type": "markdown",
   "metadata": {
    "id": "idB4W5V0SdyW"
   },
   "source": [
    "If you're opening this notebook locally, make sure your environment has an install from the last version of those libraries.\n",
    "\n",
    "To be able to share your model with the community and generate results like the one shown in the picture below via the inference API, there are a few more steps to follow.\n",
    "\n",
    "First you have to store your authentication token from the Hugging Face website (sign up [here](https://huggingface.co/join) if you haven't already!) then execute the following cell and input your username and password:"
   ]
  },
  {
   "cell_type": "code",
   "execution_count": 66,
   "metadata": {
    "id": "RfPoyOVuSdyW"
   },
   "outputs": [],
   "source": [
    "# from huggingface_hub import notebook_login\n",
    "\n",
    "# notebook_login()"
   ]
  },
  {
   "cell_type": "markdown",
   "metadata": {
    "id": "wzMSvkyCSdyX"
   },
   "source": [
    "Then you need to install Git-LFS. Uncomment the following instructions:"
   ]
  },
  {
   "cell_type": "code",
   "execution_count": 67,
   "metadata": {
    "id": "bJy06an9SdyX"
   },
   "outputs": [],
   "source": [
    "# !sudo apt install git-lfs"
   ]
  },
  {
   "cell_type": "markdown",
   "metadata": {
    "id": "kybk0awWSdyY"
   },
   "source": [
    "Make sure your version of Transformers is at least 4.11.0 since the functionality was introduced in that version:"
   ]
  },
  {
   "cell_type": "code",
   "execution_count": 68,
   "metadata": {
    "id": "-DVQJ3FKSdyY"
   },
   "outputs": [
    {
     "name": "stdout",
     "output_type": "stream",
     "text": [
      "4.18.0\n"
     ]
    }
   ],
   "source": [
    "import transformers\n",
    "\n",
    "print(transformers.__version__)"
   ]
  },
  {
   "cell_type": "markdown",
   "metadata": {
    "id": "HFASsisvIrIb"
   },
   "source": [
    "You can find a script version of this notebook to fine-tune your model in a distributed fashion using multiple GPUs or TPUs [here](https://github.com/huggingface/transformers/tree/master/examples/token-classification)."
   ]
  },
  {
   "cell_type": "markdown",
   "metadata": {
    "id": "rEJBSTyZIrIb"
   },
   "source": [
    "# Fine-tuning a model on a token classification task"
   ]
  },
  {
   "cell_type": "markdown",
   "metadata": {
    "id": "BMXrgjdsSdya"
   },
   "source": [
    "In this notebook, we will see how to fine-tune one of the [🤗 Transformers](https://github.com/huggingface/transformers) model to a token classification task, which is the task of predicting a label for each token.\n",
    "\n",
    "![Widget inference representing the NER task](https://github.com/huggingface/notebooks/blob/main/examples/images/token_classification.png?raw=1)\n",
    "\n",
    "The most common token classification tasks are:\n",
    "\n",
    "- NER (Named-entity recognition) Classify the entities in the text (person, organization, location...).\n",
    "- POS (Part-of-speech tagging) Grammatically classify the tokens (noun, verb, adjective...)\n",
    "- Chunk (Chunking) Grammatically classify the tokens and group them into \"chunks\" that go together\n",
    "\n",
    "We will see how to easily load a dataset for these kinds of tasks and use the `Trainer` API to fine-tune a model on it."
   ]
  },
  {
   "cell_type": "markdown",
   "metadata": {
    "id": "4RRkXuteIrIh"
   },
   "source": [
    "This notebook is built to run on any token classification task, with any model checkpoint from the [Model Hub](https://huggingface.co/models) as long as that model has a version with a token classification head and a fast tokenizer (check on [this table](https://huggingface.co/transformers/index.html#bigtable) if this is the case). It might just need some small adjustments if you decide to use a different dataset than the one used here. Depending on you model and the GPU you are using, you might need to adjust the batch size to avoid out-of-memory errors. Set those three parameters, then the rest of the notebook should run smoothly:"
   ]
  },
  {
   "cell_type": "code",
   "execution_count": 174,
   "metadata": {},
   "outputs": [],
   "source": [
    "import os\n",
    "import transformers\n",
    "from datasets import load_metric\n",
    "from armanpers_dataset import HFArmanPersDataset\n",
    "from datasets import ClassLabel, Sequence\n",
    "import random\n",
    "import pandas as pd\n",
    "import numpy as np\n",
    "from IPython.display import display, HTML\n",
    "from transformers import AutoTokenizer\n",
    "from transformers import AutoModelForTokenClassification, TrainingArguments, Trainer\n",
    "from transformers import DataCollatorForTokenClassification"
   ]
  },
  {
   "cell_type": "code",
   "execution_count": 70,
   "metadata": {
    "id": "zVvslsfMIrIh"
   },
   "outputs": [],
   "source": [
    "model_checkpoint = \"HooshvareLab/distilbert-fa-zwnj-base\"\n",
    "batch_size = 64"
   ]
  },
  {
   "cell_type": "markdown",
   "metadata": {
    "id": "whPRbBNbIrIl"
   },
   "source": [
    "## Loading the dataset"
   ]
  },
  {
   "cell_type": "markdown",
   "metadata": {
    "id": "W7QYTpxXIrIl"
   },
   "source": [
    "We will use the [🤗 Datasets](https://github.com/huggingface/datasets) library to download the data and get the metric we need to use for evaluation (to compare our model to the benchmark). This can be easily done with the functions `load_dataset` and `load_metric`.  "
   ]
  },
  {
   "cell_type": "markdown",
   "metadata": {
    "id": "CKx2zKs5IrIq"
   },
   "source": [
    "For our example here, we'll use the [ArmanPers](https://github.com/HaniehP/PersianNER). A custom dataset called ArmanPersDaset is created for this task"
   ]
  },
  {
   "cell_type": "markdown",
   "metadata": {},
   "source": [
    "If you changed any of the text files and desire to reload them clear the cache address which in this case is `/home/ai/.cache/huggingface/datasets/arman_pers/ArmanPers/1.0.0` because datasets does not check the files till the localfiles exists."
   ]
  },
  {
   "cell_type": "code",
   "execution_count": 71,
   "metadata": {
    "id": "IreSlFmlIrIm"
   },
   "outputs": [
    {
     "name": "stderr",
     "output_type": "stream",
     "text": [
      "Reusing dataset arman_pers (/home/ai/.cache/huggingface/datasets/arman_pers/ArmanPers/1.0.0)\n"
     ]
    },
    {
     "name": "stdout",
     "output_type": "stream",
     "text": [
      "Cache1 directory:  /home/ai/.cache/huggingface/datasets/arman_pers/ArmanPers/1.0.0\n"
     ]
    },
    {
     "data": {
      "application/vnd.jupyter.widget-view+json": {
       "model_id": "35b88327d73c47fda1a3b0386f3577d6",
       "version_major": 2,
       "version_minor": 0
      },
      "text/plain": [
       "  0%|          | 0/3 [00:00<?, ?it/s]"
      ]
     },
     "metadata": {},
     "output_type": "display_data"
    }
   ],
   "source": [
    "# !rm -rf /home/ai/.cache/huggingface/datasets/arman_pers/ArmanPers/1.0.0\n",
    "datasets = HFArmanPersDataset(train_path='train.txt',\n",
    "                              val_path='val.txt',\n",
    "                              test_path='test.txt').dataset"
   ]
  },
  {
   "cell_type": "markdown",
   "metadata": {
    "id": "RzfPtOMoIrIu"
   },
   "source": [
    "The `datasets` object itself is [`DatasetDict`](https://huggingface.co/docs/datasets/package_reference/main_classes.html#datasetdict), which contains one key for the training, validation and test set."
   ]
  },
  {
   "cell_type": "code",
   "execution_count": 72,
   "metadata": {
    "id": "GWiVUF0jIrIv",
    "outputId": "35e3ea43-f397-4a54-c90c-f2cf8d36873e"
   },
   "outputs": [
    {
     "data": {
      "text/plain": [
       "DatasetDict({\n",
       "    train: Dataset({\n",
       "        features: ['id', 'tokens', 'ner_tags'],\n",
       "        num_rows: 12290\n",
       "    })\n",
       "    validation: Dataset({\n",
       "        features: ['id', 'tokens', 'ner_tags'],\n",
       "        num_rows: 3074\n",
       "    })\n",
       "    test: Dataset({\n",
       "        features: ['id', 'tokens', 'ner_tags'],\n",
       "        num_rows: 7682\n",
       "    })\n",
       "})"
      ]
     },
     "execution_count": 72,
     "metadata": {},
     "output_type": "execute_result"
    }
   ],
   "source": [
    "datasets"
   ]
  },
  {
   "cell_type": "markdown",
   "metadata": {
    "id": "bYCjlzXDSdyc"
   },
   "source": [
    "We can see the training, validation and test sets all have a column for the tokens (the input texts split into words) and one column of labels for each kind of task we introduced before."
   ]
  },
  {
   "cell_type": "markdown",
   "metadata": {
    "id": "u3EtYfeHIrIz"
   },
   "source": [
    "To access an actual element, you need to select a split first, then give an index:"
   ]
  },
  {
   "cell_type": "markdown",
   "metadata": {
    "id": "9UmhyVNISdyd"
   },
   "source": [
    "The labels are already coded as integer ids to be easily usable by our model, but the correspondence with the actual categories is stored in the `features` of the dataset:"
   ]
  },
  {
   "cell_type": "code",
   "execution_count": 74,
   "metadata": {
    "id": "wZ3Sm86RSdyd",
    "outputId": "1ee84691-5712-49ce-c7d9-2467607017bf"
   },
   "outputs": [
    {
     "data": {
      "text/plain": [
       "Sequence(feature=ClassLabel(num_classes=13, names=['B-event', 'B-fac', 'B-loc', 'B-org', 'B-pers', 'B-pro', 'I-event', 'I-fac', 'I-loc', 'I-org', 'I-pers', 'I-pro', 'O'], id=None), length=-1, id=None)"
      ]
     },
     "execution_count": 74,
     "metadata": {},
     "output_type": "execute_result"
    }
   ],
   "source": [
    "datasets[\"train\"].features[f\"ner_tags\"]"
   ]
  },
  {
   "cell_type": "markdown",
   "metadata": {
    "id": "br9_PniiSdyd"
   },
   "source": [
    "So for the NER tags, 0 corresponds to 'O', 1 to 'B-PER' etc... On top of the 'O' (which means no special entity), there are four labels for NER here, each prefixed with 'B-' (for beginning) or 'I-' (for intermediate), that indicate if the token is the first one for the current group with the label or not:\n",
    "\n",
    "- \"B-event\": \"رویداد\",\n",
    "- \"B-fac\": \"امکانات\",\n",
    "- \"B-loc\": \"موقعیت\",\n",
    "- \"B-org\": \"سازمان\",\n",
    "- \"B-pers\": \"شخص\",\n",
    "- \"B-pro\": \"محصول\",\n",
    "- \"I-event\": \"رویداد\",\n",
    "- \"I-fac\": \"امکانات\",\n",
    "- \"I-loc\": \"موقعیت\",\n",
    "- \"I-org\": \"سازمان\",\n",
    "- \"I-pers\": \"شخص\",\n",
    "- \"I-pro\": \"محصول\",\n",
    "- \"O\": None"
   ]
  },
  {
   "cell_type": "markdown",
   "metadata": {
    "id": "zWVXvAnKSdyd"
   },
   "source": [
    "Since the labels are lists of `ClassLabel`, the actual names of the labels are nested in the `feature` attribute of the object above:"
   ]
  },
  {
   "cell_type": "code",
   "execution_count": 75,
   "metadata": {
    "id": "cLCxNPhHSdye",
    "outputId": "21a0b4e1-63b2-4eb3-e3ba-8a36232d1049"
   },
   "outputs": [
    {
     "data": {
      "text/plain": [
       "['B-event',\n",
       " 'B-fac',\n",
       " 'B-loc',\n",
       " 'B-org',\n",
       " 'B-pers',\n",
       " 'B-pro',\n",
       " 'I-event',\n",
       " 'I-fac',\n",
       " 'I-loc',\n",
       " 'I-org',\n",
       " 'I-pers',\n",
       " 'I-pro',\n",
       " 'O']"
      ]
     },
     "execution_count": 75,
     "metadata": {},
     "output_type": "execute_result"
    }
   ],
   "source": [
    "label_list = datasets[\"train\"].features[f\"ner_tags\"].feature.names\n",
    "label_list"
   ]
  },
  {
   "cell_type": "markdown",
   "metadata": {
    "id": "WHUmphG3IrI3"
   },
   "source": [
    "To get a sense of what the data looks like, the following function will show some examples picked randomly in the dataset (automatically decoding the labels in passing)."
   ]
  },
  {
   "cell_type": "code",
   "execution_count": 76,
   "metadata": {
    "id": "i3j8APAoIrI3"
   },
   "outputs": [],
   "source": [
    "from datasets import ClassLabel, Sequence\n",
    "import random\n",
    "import pandas as pd\n",
    "from IPython.display import display, HTML\n",
    "\n",
    "def show_random_elements(dataset, num_examples=10):\n",
    "    assert num_examples <= len(dataset), \"Can't pick more elements than there are in the dataset.\"\n",
    "    picks = []\n",
    "    for _ in range(num_examples):\n",
    "        pick = random.randint(0, len(dataset)-1)\n",
    "        while pick in picks:\n",
    "            pick = random.randint(0, len(dataset)-1)\n",
    "        picks.append(pick)\n",
    "    \n",
    "    df = pd.DataFrame(dataset[picks])\n",
    "    for column, typ in dataset.features.items():\n",
    "        if isinstance(typ, ClassLabel):\n",
    "            df[column] = df[column].transform(lambda i: typ.names[i])\n",
    "        elif isinstance(typ, Sequence) and isinstance(typ.feature, ClassLabel):\n",
    "            df[column] = df[column].transform(lambda x: [typ.feature.names[i] for i in x])\n",
    "    display(HTML(df.to_html()))"
   ]
  },
  {
   "cell_type": "code",
   "execution_count": 77,
   "metadata": {
    "id": "SZy5tRB_IrI7",
    "outputId": "ba8f2124-e485-488f-8c0c-254f34f24f13",
    "scrolled": true
   },
   "outputs": [
    {
     "data": {
      "text/html": [
       "<table border=\"1\" class=\"dataframe\">\n",
       "  <thead>\n",
       "    <tr style=\"text-align: right;\">\n",
       "      <th></th>\n",
       "      <th>id</th>\n",
       "      <th>tokens</th>\n",
       "      <th>ner_tags</th>\n",
       "    </tr>\n",
       "  </thead>\n",
       "  <tbody>\n",
       "    <tr>\n",
       "      <th>0</th>\n",
       "      <td>10476</td>\n",
       "      <td>[آنچه, در, زیر, می‌آید, ،, خلاصه‌ای, از, دستاوردهای, اصلی, پوتین, در, يك, سال, گذشته, است, .]</td>\n",
       "      <td>[O, O, O, O, O, O, O, O, O, B-pers, O, O, O, O, O, O]</td>\n",
       "    </tr>\n",
       "    <tr>\n",
       "      <th>1</th>\n",
       "      <td>1824</td>\n",
       "      <td>[\", عمل, نقد, \", نوشته, کاترین, بلزی, از, دیگر, کتابهای, آموزشی, در, زمینه, ادبیات, است, كه, عباس, مخبر, در, مجموعه, ترجمه‌های, خود, آن, را, به, فارسی, برگردانده, است, .]</td>\n",
       "      <td>[O, B-pro, I-pro, O, O, B-pers, I-pers, O, O, O, O, O, O, O, O, O, B-pers, I-pers, O, O, O, O, O, O, O, O, O, O, O]</td>\n",
       "    </tr>\n",
       "    <tr>\n",
       "      <th>2</th>\n",
       "      <td>409</td>\n",
       "      <td>[درخواست, تحقیق, و, تفحص, درباره, حادثه, خرم‌آباد, ،, تقدیم, مجلس, می‌شود, .]</td>\n",
       "      <td>[O, O, O, O, O, O, B-loc, O, O, O, O, O]</td>\n",
       "    </tr>\n",
       "    <tr>\n",
       "      <th>3</th>\n",
       "      <td>12149</td>\n",
       "      <td>[بنابراین, بر, خلاف, تصور, برخی, از, مخالفان, سطحی, خاتمی, ،, نظریه, گفتگوی, تمدنها, و, فرهنگها, نه, يك, نظریه, آمریکائی, بلکه, دقیقا, ضد, سلطه‌طلبی, و, تک‌قطبی‌گری, آمریکائی, است, .]</td>\n",
       "      <td>[O, O, O, O, O, O, O, O, B-pers, O, O, O, O, O, O, O, O, O, B-org, O, O, O, O, O, O, B-org, O, O]</td>\n",
       "    </tr>\n",
       "    <tr>\n",
       "      <th>4</th>\n",
       "      <td>4506</td>\n",
       "      <td>[0, ـ, رزرپین, :, در, موارد, پرفشاری, خون, و, بعضی, انواع, اختلالات, روانی, مصرف, می‌شود, .]</td>\n",
       "      <td>[O, O, O, O, O, O, O, O, O, O, O, O, O, O, O, O]</td>\n",
       "    </tr>\n",
       "    <tr>\n",
       "      <th>5</th>\n",
       "      <td>4012</td>\n",
       "      <td>[ضد, ارزش, بودن, اندیشه, تجزیه, و, تقسیم, اجتماع, نیز, در, همین, راستاست, .]</td>\n",
       "      <td>[O, O, O, O, O, O, O, O, O, O, O, O, O]</td>\n",
       "    </tr>\n",
       "    <tr>\n",
       "      <th>6</th>\n",
       "      <td>3657</td>\n",
       "      <td>[به, گفته, فرماندار, سراب, ،, سرمایه‌گذاران, می‌توانند, در, بخشهای, پرورش, ماهی, ،, دام, و, زنبور, عسل, ،, تولید, فرآورده‌های, لبنی, ،, جذب, گردشگر, و, معدن, این, شهرستان, سرمایه‌گذاری, کنند, .]</td>\n",
       "      <td>[O, O, O, B-org, O, O, O, O, O, O, O, O, O, O, O, O, O, O, O, O, O, O, O, O, O, O, O, O, O, O]</td>\n",
       "    </tr>\n",
       "    <tr>\n",
       "      <th>7</th>\n",
       "      <td>2286</td>\n",
       "      <td>[در, این, دیدار, ،, سید, حسین, هاشمی, ،, رئیس, گروه, دوستی, پارلمانی, ایران, و, کره, جنوبی, که, ریاست, هیأت, ایرانی, را, بر, عهده, دارد, ،, نیز, سیاستهای, تشنج‌زدایی, و, گفتگوی, تمدنها, را, تشریح, کرد, .]</td>\n",
       "      <td>[O, O, O, O, B-pers, I-pers, I-pers, O, O, O, O, O, B-org, O, B-org, I-org, O, O, O, O, O, O, O, O, O, O, O, O, O, O, O, O, O, O, O]</td>\n",
       "    </tr>\n",
       "    <tr>\n",
       "      <th>8</th>\n",
       "      <td>12066</td>\n",
       "      <td>[دکتر, لطفی, افزود, که, ترجمه‌های, فارسی, موجود, هنوز, به, هیچ, وجه, ،, حرف, آخر, در, ترجمه, آثار, ارسطو, نیست, ،, بلکه, باید, امیدوار, بود, که, در, آینده, ،, دیگران, نیز, بدین, کار, بپردازند, و, ترجمه‌های, بیشتری, پدید, آید, تا, جویندگان, دانش, با, مقایسه, این, ترجمه‌ها, که, حتما, باید, با, تحقیق, و, مراجعه, به, تفسیرها, همراه, باشد, ،, محتوای, فلسفی, این, کتابها, را, چنانکه, براستی, هست, ،, بشناسند, .]</td>\n",
       "      <td>[O, B-pers, O, O, O, O, O, O, O, O, O, O, O, O, O, O, O, B-pers, O, O, O, O, O, O, O, O, O, O, O, O, O, O, O, O, O, O, O, O, O, O, O, O, O, O, O, O, O, O, O, O, O, O, O, O, O, O, O, O, O, O, O, O, O, O, O, O, O, O]</td>\n",
       "    </tr>\n",
       "    <tr>\n",
       "      <th>9</th>\n",
       "      <td>1679</td>\n",
       "      <td>[هنرمندان, ایرانی, در, نقاشی, دوسالانه, معاصر, ایران, پنجمین, نمایشگاه, نقاشی, دوسالانه, معاصر, ایران, ،, از, امروز, در, موزه, هنرهای, معاصر, تهران, بر, پا, می‌شود, .]</td>\n",
       "      <td>[O, B-org, O, B-event, I-event, I-event, I-event, B-event, I-event, I-event, I-event, I-event, I-event, O, O, O, O, B-fac, I-fac, I-fac, I-fac, O, O, O, O]</td>\n",
       "    </tr>\n",
       "  </tbody>\n",
       "</table>"
      ],
      "text/plain": [
       "<IPython.core.display.HTML object>"
      ]
     },
     "metadata": {},
     "output_type": "display_data"
    }
   ],
   "source": [
    "show_random_elements(datasets[\"train\"])"
   ]
  },
  {
   "cell_type": "markdown",
   "metadata": {
    "id": "n9qywopnIrJH"
   },
   "source": [
    "## Preprocessing the data"
   ]
  },
  {
   "cell_type": "markdown",
   "metadata": {
    "id": "YVx71GdAIrJH"
   },
   "source": [
    "Before we can feed those texts to our model, we need to preprocess them. This is done by a 🤗 Transformers `Tokenizer` which will (as the name indicates) tokenize the inputs (including converting the tokens to their corresponding IDs in the pretrained vocabulary) and put it in a format the model expects, as well as generate the other inputs that model requires.\n",
    "\n",
    "To do all of this, we instantiate our tokenizer with the `AutoTokenizer.from_pretrained` method, which will ensure:\n",
    "\n",
    "- we get a tokenizer that corresponds to the model architecture we want to use,\n",
    "- we download the vocabulary used when pretraining this specific checkpoint.\n",
    "\n",
    "That vocabulary will be cached, so it's not downloaded again the next time we run the cell."
   ]
  },
  {
   "cell_type": "code",
   "execution_count": 78,
   "metadata": {
    "id": "eXNLu_-nIrJI"
   },
   "outputs": [
    {
     "name": "stderr",
     "output_type": "stream",
     "text": [
      "loading configuration file https://huggingface.co/HooshvareLab/distilbert-fa-zwnj-base/resolve/main/config.json from cache at /home/ai/.cache/huggingface/transformers/448dd43db49d55aa2c264067c88728f01c15a91c25d470424fcabaea1500d779.03ba9625e6a5212fb76a3b52e259247b2de1a56115fcdbbc91363a663c7e1966\n",
      "Model config DistilBertConfig {\n",
      "  \"_name_or_path\": \"HooshvareLab/distilbert-fa-zwnj-base\",\n",
      "  \"activation\": \"gelu\",\n",
      "  \"architectures\": [\n",
      "    \"DistilBertForMaskedLM\"\n",
      "  ],\n",
      "  \"attention_dropout\": 0.1,\n",
      "  \"dim\": 768,\n",
      "  \"dropout\": 0.1,\n",
      "  \"hidden_dim\": 3072,\n",
      "  \"initializer_range\": 0.02,\n",
      "  \"max_position_embeddings\": 512,\n",
      "  \"model_type\": \"distilbert\",\n",
      "  \"n_heads\": 12,\n",
      "  \"n_layers\": 6,\n",
      "  \"output_past\": true,\n",
      "  \"pad_token_id\": 0,\n",
      "  \"qa_dropout\": 0.1,\n",
      "  \"seq_classif_dropout\": 0.2,\n",
      "  \"sinusoidal_pos_embds\": false,\n",
      "  \"tie_weights_\": true,\n",
      "  \"transformers_version\": \"4.18.0\",\n",
      "  \"vocab_size\": 42000\n",
      "}\n",
      "\n",
      "loading file https://huggingface.co/HooshvareLab/distilbert-fa-zwnj-base/resolve/main/vocab.txt from cache at /home/ai/.cache/huggingface/transformers/9d4c4644c088b605c9c6385d5fa6e4877624e2cd266487000f7fbb3028c8f664.75ba9b0b397e5ff811df7979fa501544a6dfde55eb643e16f670d7aa16f81c1d\n",
      "loading file https://huggingface.co/HooshvareLab/distilbert-fa-zwnj-base/resolve/main/tokenizer.json from cache at /home/ai/.cache/huggingface/transformers/bd576d2be0b0eb50c8065622529c0388c2f8a97b4218fa709eb0243e0ae166f4.473194e90cfe872b63370ba003df2403b89fffe014fa356ea877b47f35f125fe\n",
      "loading file https://huggingface.co/HooshvareLab/distilbert-fa-zwnj-base/resolve/main/added_tokens.json from cache at None\n",
      "loading file https://huggingface.co/HooshvareLab/distilbert-fa-zwnj-base/resolve/main/special_tokens_map.json from cache at /home/ai/.cache/huggingface/transformers/7eafc0d3e988a26074239946bb4f03305aa564adae6f18becf923d75d9f44f6b.f982506b52498d4adb4bd491f593dc92b2ef6be61bfdbe9d30f53f963f9f5b66\n",
      "loading file https://huggingface.co/HooshvareLab/distilbert-fa-zwnj-base/resolve/main/tokenizer_config.json from cache at /home/ai/.cache/huggingface/transformers/6b2be746687d5aeddfeef82e23fd3b98f740a21b8b881bba03485c929663b00f.abf572b0d3e0408e681fd99e81aca6441495ec08464c3ff2706cba4d3d618254\n",
      "loading configuration file https://huggingface.co/HooshvareLab/distilbert-fa-zwnj-base/resolve/main/config.json from cache at /home/ai/.cache/huggingface/transformers/448dd43db49d55aa2c264067c88728f01c15a91c25d470424fcabaea1500d779.03ba9625e6a5212fb76a3b52e259247b2de1a56115fcdbbc91363a663c7e1966\n",
      "Model config DistilBertConfig {\n",
      "  \"_name_or_path\": \"HooshvareLab/distilbert-fa-zwnj-base\",\n",
      "  \"activation\": \"gelu\",\n",
      "  \"architectures\": [\n",
      "    \"DistilBertForMaskedLM\"\n",
      "  ],\n",
      "  \"attention_dropout\": 0.1,\n",
      "  \"dim\": 768,\n",
      "  \"dropout\": 0.1,\n",
      "  \"hidden_dim\": 3072,\n",
      "  \"initializer_range\": 0.02,\n",
      "  \"max_position_embeddings\": 512,\n",
      "  \"model_type\": \"distilbert\",\n",
      "  \"n_heads\": 12,\n",
      "  \"n_layers\": 6,\n",
      "  \"output_past\": true,\n",
      "  \"pad_token_id\": 0,\n",
      "  \"qa_dropout\": 0.1,\n",
      "  \"seq_classif_dropout\": 0.2,\n",
      "  \"sinusoidal_pos_embds\": false,\n",
      "  \"tie_weights_\": true,\n",
      "  \"transformers_version\": \"4.18.0\",\n",
      "  \"vocab_size\": 42000\n",
      "}\n",
      "\n"
     ]
    }
   ],
   "source": [
    "from transformers import AutoTokenizer\n",
    "    \n",
    "tokenizer = AutoTokenizer.from_pretrained(model_checkpoint)"
   ]
  },
  {
   "cell_type": "markdown",
   "metadata": {
    "id": "Vl6IidfdIrJK"
   },
   "source": [
    "The following assertion ensures that our tokenizer is a fast tokenizers (backed by Rust) from the 🤗 Tokenizers library. Those fast tokenizers are available for almost all models, and we will need some of the special features they have for our preprocessing."
   ]
  },
  {
   "cell_type": "code",
   "execution_count": 79,
   "metadata": {
    "id": "LXXky7khSdyf"
   },
   "outputs": [],
   "source": [
    "import transformers\n",
    "assert isinstance(tokenizer, transformers.PreTrainedTokenizerFast)"
   ]
  },
  {
   "cell_type": "markdown",
   "metadata": {
    "id": "hCqA4E8USdyf"
   },
   "source": [
    "You can check which type of models have a fast tokenizer available and which don't on the [big table of models](https://huggingface.co/transformers/index.html#bigtable)."
   ]
  },
  {
   "cell_type": "markdown",
   "metadata": {
    "id": "rowT4iCLIrJK"
   },
   "source": [
    "You can directly call this tokenizer on one sentence:"
   ]
  },
  {
   "cell_type": "code",
   "execution_count": 80,
   "metadata": {
    "id": "a5hBlsrHIrJL",
    "outputId": "acdaa98a-a8cd-4a20-89b8-cc26437bbe90"
   },
   "outputs": [
    {
     "name": "stdout",
     "output_type": "stream",
     "text": [
      "sample:  {'input_ids': [2, 3372, 1930, 1961, 2675, 1933, 110, 3], 'attention_mask': [1, 1, 1, 1, 1, 1, 1, 1]}\n"
     ]
    }
   ],
   "source": [
    "print('sample: ', tokenizer(\"سلام این یک جمله است!\"))"
   ]
  },
  {
   "cell_type": "markdown",
   "metadata": {
    "id": "umQNlBhSSdyg"
   },
   "source": [
    "Depending on the model you selected, you will see different keys in the dictionary returned by the cell above. They don't matter much for what we're doing here (just know they are required by the model we will instantiate later), you can learn more about them in [this tutorial](https://huggingface.co/transformers/preprocessing.html) if you're interested.\n",
    "\n",
    "If, as is the case here, your inputs have already been split into words, you should pass the list of words to your tokenzier with the argument `is_split_into_words=True`:"
   ]
  },
  {
   "cell_type": "code",
   "execution_count": 81,
   "metadata": {
    "id": "mm1xHboKSdyg",
    "outputId": "91fdb595-93a9-43c6-a2fb-1633dbcf8f3d"
   },
   "outputs": [
    {
     "name": "stdout",
     "output_type": "stream",
     "text": [
      "tokenized sample:  {'input_ids': [2, 3372, 119, 1930, 1961, 2675, 6600, 1983, 1923, 5525, 1933, 121, 3], 'attention_mask': [1, 1, 1, 1, 1, 1, 1, 1, 1, 1, 1, 1, 1]}\n"
     ]
    }
   ],
   "source": [
    "print(\"tokenized sample: \",\n",
    "      tokenizer([\"سلام\", \",\", \"این\", \"یک\", \"جمله\", \"تکه\", \"شده\", \"به\", \"کلمات\", \"است\", \".\"], is_split_into_words=True))"
   ]
  },
  {
   "cell_type": "markdown",
   "metadata": {
    "id": "XXeJ1bv7Sdyh"
   },
   "source": [
    "Note that transformers are often pretrained with subword tokenizers, meaning that even if your inputs have been split into words already, each of those words could be split again by the tokenizer. Let's look at an example of that:"
   ]
  },
  {
   "cell_type": "code",
   "execution_count": 82,
   "metadata": {
    "id": "gmsR6aYmSdyh",
    "outputId": "92678eb2-0b2c-4588-b44c-938fec11acb5"
   },
   "outputs": [
    {
     "name": "stdout",
     "output_type": "stream",
     "text": [
      "['وي', 'افزود', ':', 'مافیای', 'قدرت', 'و', 'ثروت', '،', 'امروز', 'به', 'مقابله', 'جدی', 'با', 'جنبش', 'دانشجوئی', 'برخاسته\\u200cاند', 'اما', 'طرفداران', 'سیاست', 'سرکوب', 'باید', 'این', 'واقعیت', 'را', 'درک', 'کنند', 'كه', 'لزوما', 'برنده', 'این', 'بحران\\u200cآفرینیها', 'و', 'انسداد', 'سیاسی', 'نخواهند', 'بود', '.']\n"
     ]
    }
   ],
   "source": [
    "example = datasets[\"train\"][4]\n",
    "print(example[\"tokens\"])"
   ]
  },
  {
   "cell_type": "code",
   "execution_count": 83,
   "metadata": {
    "id": "EmzYnMkQSdyh",
    "outputId": "8d92e94b-4c72-4fca-edab-ae2112f42418"
   },
   "outputs": [
    {
     "name": "stdout",
     "output_type": "stream",
     "text": [
      "['[CLS]', 'و', '##ي', 'افزود', ':', 'مافیای', 'قدرت', 'و', 'ثروت', '،', 'امروز', 'به', 'مقابله', 'جدی', 'با', 'جنبش', '[UNK]', 'برخاسته', '[ZWNJ]', 'اند', 'اما', 'طرفداران', 'سیاست', 'سرکوب', 'باید', 'این', 'واقعیت', 'را', 'درک', 'کنند', '[UNK]', 'لزوما', 'برنده', 'این', 'بحران', '[ZWNJ]', 'آ', '##فرین', '##یه', '##ا', 'و', 'انسداد', 'سیاسی', 'نخواهند', 'بود', '.', '[SEP]']\n"
     ]
    }
   ],
   "source": [
    "tokenized_input = tokenizer(example[\"tokens\"], is_split_into_words=True)\n",
    "tokens = tokenizer.convert_ids_to_tokens(tokenized_input[\"input_ids\"])\n",
    "print(tokens)"
   ]
  },
  {
   "cell_type": "markdown",
   "metadata": {
    "id": "4Z4CNLjRSdyh"
   },
   "source": [
    "Here the words \"وی\" and \"آفرینیها\" have been split in three subtokens.\n",
    "\n",
    "This means that we need to do some processing on our labels as the input ids returned by the tokenizer are longer than the lists of labels our dataset contain, first because some special tokens might be added (we can use a `[CLS]` and a `[SEP]` above) and then because of those possible splits of words in multiple tokens:"
   ]
  },
  {
   "cell_type": "code",
   "execution_count": 84,
   "metadata": {
    "id": "KwgAY4D7Sdyh",
    "outputId": "af81f5c1-cdc2-411b-8f95-b085f7d81e7d"
   },
   "outputs": [
    {
     "data": {
      "text/plain": [
       "(37, 47)"
      ]
     },
     "execution_count": 84,
     "metadata": {},
     "output_type": "execute_result"
    }
   ],
   "source": [
    "len(example[f\"ner_tags\"]), len(tokenized_input[\"input_ids\"])"
   ]
  },
  {
   "cell_type": "markdown",
   "metadata": {
    "id": "dvkyLgAJSdyi"
   },
   "source": [
    "Thankfully, the tokenizer returns outputs that have a `word_ids` method which can help us."
   ]
  },
  {
   "cell_type": "code",
   "execution_count": 85,
   "metadata": {
    "id": "-Kx2A5XXSdyi",
    "outputId": "5d1a37ef-fe0e-4032-84e3-6e634ccb8cc5"
   },
   "outputs": [
    {
     "name": "stdout",
     "output_type": "stream",
     "text": [
      "[None, 0, 0, 1, 2, 3, 4, 5, 6, 7, 8, 9, 10, 11, 12, 13, 14, 15, 15, 15, 16, 17, 18, 19, 20, 21, 22, 23, 24, 25, 26, 27, 28, 29, 30, 30, 30, 30, 30, 30, 31, 32, 33, 34, 35, 36, None]\n"
     ]
    }
   ],
   "source": [
    "print(tokenized_input.word_ids())"
   ]
  },
  {
   "cell_type": "markdown",
   "metadata": {
    "id": "3XZHnzOeSdyi"
   },
   "source": [
    "As we can see, it returns a list with the same number of elements as our processed input ids, mapping special tokens to `None` and all other tokens to their respective word. This way, we can align the labels with the processed input ids."
   ]
  },
  {
   "cell_type": "code",
   "execution_count": 86,
   "metadata": {
    "id": "Arr5eg_bSdyi",
    "outputId": "16b18830-9f4c-4ad9-9ab5-9f173d9545b1"
   },
   "outputs": [
    {
     "name": "stdout",
     "output_type": "stream",
     "text": [
      "47 47\n"
     ]
    }
   ],
   "source": [
    "word_ids = tokenized_input.word_ids()\n",
    "aligned_labels = [-100 if i is None else example[f\"ner_tags\"][i] for i in word_ids]\n",
    "print(len(aligned_labels), len(tokenized_input[\"input_ids\"]))"
   ]
  },
  {
   "cell_type": "markdown",
   "metadata": {
    "id": "HlAxhaEBSdyi"
   },
   "source": [
    "Here we set the labels of all special tokens to -100 (the index that is ignored by PyTorch) and the labels of all other tokens to the label of the word they come from. Another strategy is to set the label only on the first token obtained from a given word, and give a label of -100 to the other subtokens from the same word. We propose the two strategies here, just change the value of the following flag:"
   ]
  },
  {
   "cell_type": "code",
   "execution_count": 87,
   "metadata": {
    "id": "m6cXzrmeSdyj"
   },
   "outputs": [],
   "source": [
    "label_all_tokens = True"
   ]
  },
  {
   "cell_type": "markdown",
   "metadata": {
    "id": "2C0hcmp9IrJQ"
   },
   "source": [
    "We're now ready to write the function that will preprocess our samples. We feed them to the `tokenizer` with the argument `truncation=True` (to truncate texts that are bigger than the maximum size allowed by the model) and `is_split_into_words=True` (as seen above). Then we align the labels with the token ids using the strategy we picked:"
   ]
  },
  {
   "cell_type": "code",
   "execution_count": 88,
   "metadata": {
    "id": "vc0BSBLIIrJQ"
   },
   "outputs": [],
   "source": [
    "def tokenize_and_align_labels(examples):\n",
    "    tokenized_inputs = tokenizer(examples[\"tokens\"], truncation=True, is_split_into_words=True)\n",
    "\n",
    "    labels = []\n",
    "    for i, label in enumerate(examples[f\"ner_tags\"]):\n",
    "        word_ids = tokenized_inputs.word_ids(batch_index=i)\n",
    "        previous_word_idx = None\n",
    "        label_ids = []\n",
    "        for word_idx in word_ids:\n",
    "            # Special tokens have a word id that is None. We set the label to -100 so they are automatically\n",
    "            # ignored in the loss function.\n",
    "            if word_idx is None:\n",
    "                label_ids.append(-100)\n",
    "            # We set the label for the first token of each word.\n",
    "            elif word_idx != previous_word_idx:\n",
    "                label_ids.append(label[word_idx])\n",
    "            # For the other tokens in a word, we set the label to either the current label or -100, depending on\n",
    "            # the label_all_tokens flag.\n",
    "            else:\n",
    "                label_ids.append(label[word_idx] if label_all_tokens else -100)\n",
    "            previous_word_idx = word_idx\n",
    "\n",
    "        labels.append(label_ids)\n",
    "\n",
    "    tokenized_inputs[\"labels\"] = labels\n",
    "    return tokenized_inputs"
   ]
  },
  {
   "cell_type": "markdown",
   "metadata": {
    "id": "0lm8ozrJIrJR"
   },
   "source": [
    "This function works with one or several examples. In the case of several examples, the tokenizer will return a list of lists for each key:"
   ]
  },
  {
   "cell_type": "code",
   "execution_count": 89,
   "metadata": {
    "id": "-b70jh26IrJS",
    "outputId": "acd3a42d-985b-44ee-9daa-af5d944ce1d9"
   },
   "outputs": [
    {
     "data": {
      "text/plain": [
       "{'input_ids': [[2, 30060, 8573, 4979, 2748, 1921, 2240, 2690, 1925, 7936, 1969, 1927, 2531, 1923, 2898, 2626, 590, 2228, 133, 2129, 1925, 3615, 1, 2626, 623, 1, 1, 3359, 9, 4490, 2852, 2535, 590, 10149, 1993, 121, 3], [2, 3078, 1921, 3332, 1927, 3469, 18113, 595, 10808, 1916, 1923, 3468, 3721, 5129, 8429, 223, 3200, 209, 11738, 2139, 121, 3], [2, 2200, 2090, 2076, 5906, 5652, 12902, 595, 33624, 1114, 623, 1, 1921, 5046, 3400, 2818, 623, 1927, 1951, 4123, 6695, 121, 3], [2, 1930, 3570, 2299, 3886, 1925, 3570, 12573, 1933, 121, 3], [2, 623, 1173, 3218, 133, 27170, 2731, 623, 5484, 590, 2902, 1923, 4953, 4191, 1927, 6256, 1, 18419, 9, 2033, 2069, 5512, 3572, 7715, 2129, 1930, 3894, 1937, 3970, 2043, 1, 9204, 4691, 1930, 4890, 9, 595, 23988, 2195, 1110, 623, 16893, 3538, 7040, 1976, 121, 3]], 'attention_mask': [[1, 1, 1, 1, 1, 1, 1, 1, 1, 1, 1, 1, 1, 1, 1, 1, 1, 1, 1, 1, 1, 1, 1, 1, 1, 1, 1, 1, 1, 1, 1, 1, 1, 1, 1, 1, 1], [1, 1, 1, 1, 1, 1, 1, 1, 1, 1, 1, 1, 1, 1, 1, 1, 1, 1, 1, 1, 1, 1], [1, 1, 1, 1, 1, 1, 1, 1, 1, 1, 1, 1, 1, 1, 1, 1, 1, 1, 1, 1, 1, 1, 1], [1, 1, 1, 1, 1, 1, 1, 1, 1, 1, 1], [1, 1, 1, 1, 1, 1, 1, 1, 1, 1, 1, 1, 1, 1, 1, 1, 1, 1, 1, 1, 1, 1, 1, 1, 1, 1, 1, 1, 1, 1, 1, 1, 1, 1, 1, 1, 1, 1, 1, 1, 1, 1, 1, 1, 1, 1, 1]], 'labels': [[-100, 12, 12, 12, 2, 12, 12, 12, 12, 12, 12, 12, 12, 12, 0, 6, 12, 12, 12, 12, 12, 12, 12, 12, 12, 12, 12, 12, 12, 12, 12, 12, 12, 12, 12, 12, -100], [-100, 12, 12, 12, 12, 0, 6, 6, 6, 6, 12, 12, 12, 4, 10, 12, 12, 12, 12, 12, 12, -100], [-100, 12, 12, 12, 12, 12, 12, 12, 12, 12, 12, 12, 12, 2, 12, 12, 12, 12, 12, 12, 12, 12, -100], [-100, 12, 12, 12, 12, 12, 12, 12, 12, 12, -100], [-100, 12, 12, 12, 12, 12, 12, 12, 12, 12, 12, 12, 12, 12, 12, 12, 12, 12, 12, 12, 12, 12, 12, 12, 12, 12, 12, 12, 12, 12, 12, 12, 12, 12, 12, 12, 12, 12, 12, 12, 12, 12, 12, 12, 12, 12, -100]]}"
      ]
     },
     "execution_count": 89,
     "metadata": {},
     "output_type": "execute_result"
    }
   ],
   "source": [
    "tokenize_and_align_labels(datasets['train'][:5])"
   ]
  },
  {
   "cell_type": "markdown",
   "metadata": {
    "id": "zS-6iXTkIrJT"
   },
   "source": [
    "To apply this function on all the sentences (or pairs of sentences) in our dataset, we just use the `map` method of our `dataset` object we created earlier. This will apply the function on all the elements of all the splits in `dataset`, so our training, validation and testing data will be preprocessed in one single command."
   ]
  },
  {
   "cell_type": "code",
   "execution_count": 90,
   "metadata": {
    "id": "DDtsaJeVIrJT",
    "outputId": "aa4734bf-4ef5-4437-9948-2c16363da719"
   },
   "outputs": [
    {
     "name": "stderr",
     "output_type": "stream",
     "text": [
      "Loading cached processed dataset at /home/ai/.cache/huggingface/datasets/arman_pers/ArmanPers/1.0.0/cache-75bf32c739a59a0d.arrow\n",
      "Loading cached processed dataset at /home/ai/.cache/huggingface/datasets/arman_pers/ArmanPers/1.0.0/cache-eb525887db137b4d.arrow\n",
      "Loading cached processed dataset at /home/ai/.cache/huggingface/datasets/arman_pers/ArmanPers/1.0.0/cache-9d792a2893c1c003.arrow\n"
     ]
    }
   ],
   "source": [
    "tokenized_datasets = datasets.map(tokenize_and_align_labels, batched=True)"
   ]
  },
  {
   "cell_type": "markdown",
   "metadata": {
    "id": "voWiw8C7IrJV"
   },
   "source": [
    "Even better, the results are automatically cached by the 🤗 Datasets library to avoid spending time on this step the next time you run your notebook. The 🤗 Datasets library is normally smart enough to detect when the function you pass to map has changed (and thus requires to not use the cache data). For instance, it will properly detect if you change the task in the first cell and rerun the notebook. 🤗 Datasets warns you when it uses cached files, you can pass `load_from_cache_file=False` in the call to `map` to not use the cached files and force the preprocessing to be applied again.\n",
    "\n",
    "Note that we passed `batched=True` to encode the texts by batches together. This is to leverage the full benefit of the fast tokenizer we loaded earlier, which will use multi-threading to treat the texts in a batch concurrently."
   ]
  },
  {
   "cell_type": "markdown",
   "metadata": {
    "id": "545PP3o8IrJV"
   },
   "source": [
    "## Fine-tuning the model"
   ]
  },
  {
   "cell_type": "markdown",
   "metadata": {
    "id": "FBiW8UpKIrJW"
   },
   "source": [
    "Now that our data is ready, we can download the pretrained model and fine-tune it. Since all our tasks are about token classification, we use the `AutoModelForTokenClassification` class. Like with the tokenizer, the `from_pretrained` method will download and cache the model for us. The only thing we have to specify is the number of labels for our problem (which we can get from the features, as seen before):"
   ]
  },
  {
   "cell_type": "code",
   "execution_count": 91,
   "metadata": {
    "id": "TlqNaB8jIrJW",
    "outputId": "84916cf3-6e6c-47f3-d081-032ec30a4132"
   },
   "outputs": [
    {
     "name": "stderr",
     "output_type": "stream",
     "text": [
      "loading configuration file https://huggingface.co/HooshvareLab/distilbert-fa-zwnj-base/resolve/main/config.json from cache at /home/ai/.cache/huggingface/transformers/448dd43db49d55aa2c264067c88728f01c15a91c25d470424fcabaea1500d779.03ba9625e6a5212fb76a3b52e259247b2de1a56115fcdbbc91363a663c7e1966\n",
      "Model config DistilBertConfig {\n",
      "  \"_name_or_path\": \"HooshvareLab/distilbert-fa-zwnj-base\",\n",
      "  \"activation\": \"gelu\",\n",
      "  \"architectures\": [\n",
      "    \"DistilBertForMaskedLM\"\n",
      "  ],\n",
      "  \"attention_dropout\": 0.1,\n",
      "  \"dim\": 768,\n",
      "  \"dropout\": 0.1,\n",
      "  \"hidden_dim\": 3072,\n",
      "  \"id2label\": {\n",
      "    \"0\": \"LABEL_0\",\n",
      "    \"1\": \"LABEL_1\",\n",
      "    \"2\": \"LABEL_2\",\n",
      "    \"3\": \"LABEL_3\",\n",
      "    \"4\": \"LABEL_4\",\n",
      "    \"5\": \"LABEL_5\",\n",
      "    \"6\": \"LABEL_6\",\n",
      "    \"7\": \"LABEL_7\",\n",
      "    \"8\": \"LABEL_8\",\n",
      "    \"9\": \"LABEL_9\",\n",
      "    \"10\": \"LABEL_10\",\n",
      "    \"11\": \"LABEL_11\",\n",
      "    \"12\": \"LABEL_12\"\n",
      "  },\n",
      "  \"initializer_range\": 0.02,\n",
      "  \"label2id\": {\n",
      "    \"LABEL_0\": 0,\n",
      "    \"LABEL_1\": 1,\n",
      "    \"LABEL_10\": 10,\n",
      "    \"LABEL_11\": 11,\n",
      "    \"LABEL_12\": 12,\n",
      "    \"LABEL_2\": 2,\n",
      "    \"LABEL_3\": 3,\n",
      "    \"LABEL_4\": 4,\n",
      "    \"LABEL_5\": 5,\n",
      "    \"LABEL_6\": 6,\n",
      "    \"LABEL_7\": 7,\n",
      "    \"LABEL_8\": 8,\n",
      "    \"LABEL_9\": 9\n",
      "  },\n",
      "  \"max_position_embeddings\": 512,\n",
      "  \"model_type\": \"distilbert\",\n",
      "  \"n_heads\": 12,\n",
      "  \"n_layers\": 6,\n",
      "  \"output_past\": true,\n",
      "  \"pad_token_id\": 0,\n",
      "  \"qa_dropout\": 0.1,\n",
      "  \"seq_classif_dropout\": 0.2,\n",
      "  \"sinusoidal_pos_embds\": false,\n",
      "  \"tie_weights_\": true,\n",
      "  \"transformers_version\": \"4.18.0\",\n",
      "  \"vocab_size\": 42000\n",
      "}\n",
      "\n",
      "loading weights file https://huggingface.co/HooshvareLab/distilbert-fa-zwnj-base/resolve/main/pytorch_model.bin from cache at /home/ai/.cache/huggingface/transformers/401ab3e0fb7400c2cc04ed3a5f97313eeb62fa03b9c8615cd35f6afd61d6d918.3e7d189bc35a338a333e873856373fd370c1783374f07ea51bccf1801857ebef\n",
      "Some weights of the model checkpoint at HooshvareLab/distilbert-fa-zwnj-base were not used when initializing DistilBertForTokenClassification: ['vocab_layer_norm.weight', 'vocab_projector.weight', 'vocab_projector.bias', 'vocab_transform.bias', 'vocab_transform.weight', 'vocab_layer_norm.bias']\n",
      "- This IS expected if you are initializing DistilBertForTokenClassification from the checkpoint of a model trained on another task or with another architecture (e.g. initializing a BertForSequenceClassification model from a BertForPreTraining model).\n",
      "- This IS NOT expected if you are initializing DistilBertForTokenClassification from the checkpoint of a model that you expect to be exactly identical (initializing a BertForSequenceClassification model from a BertForSequenceClassification model).\n",
      "Some weights of DistilBertForTokenClassification were not initialized from the model checkpoint at HooshvareLab/distilbert-fa-zwnj-base and are newly initialized: ['classifier.weight', 'classifier.bias']\n",
      "You should probably TRAIN this model on a down-stream task to be able to use it for predictions and inference.\n"
     ]
    }
   ],
   "source": [
    "from transformers import AutoModelForTokenClassification, TrainingArguments, Trainer\n",
    "\n",
    "model = AutoModelForTokenClassification.from_pretrained(model_checkpoint, num_labels=len(label_list))"
   ]
  },
  {
   "cell_type": "markdown",
   "metadata": {
    "id": "CczA5lJlIrJX"
   },
   "source": [
    "The warning is telling us we are throwing away some weights (the `vocab_transform` and `vocab_layer_norm` layers) and randomly initializing some other (the `pre_classifier` and `classifier` layers). This is absolutely normal in this case, because we are removing the head used to pretrain the model on a masked language modeling objective and replacing it with a new head for which we don't have pretrained weights, so the library warns us we should fine-tune this model before using it for inference, which is exactly what we are going to do."
   ]
  },
  {
   "cell_type": "markdown",
   "metadata": {
    "id": "_N8urzhyIrJY"
   },
   "source": [
    "To instantiate a `Trainer`, we will need to define three more things. The most important is the [`TrainingArguments`](https://huggingface.co/transformers/main_classes/trainer.html#transformers.TrainingArguments), which is a class that contains all the attributes to customize the training. It requires one folder name, which will be used to save the checkpoints of the model, and all other arguments are optional:"
   ]
  },
  {
   "cell_type": "code",
   "execution_count": 172,
   "metadata": {
    "id": "Bliy8zgjIrJY"
   },
   "outputs": [
    {
     "name": "stderr",
     "output_type": "stream",
     "text": [
      "PyTorch: setting up devices\n",
      "The default value for the training argument `--report_to` will change in v5 (from all installed integrations to none). In v5, you will need to use `--report_to all` to get the same behavior as now. You should start updating your code and make this info disappear :-).\n"
     ]
    }
   ],
   "source": [
    "model_name = model_checkpoint.split(\"/\")[-1]\n",
    "output_dir = f\"{model_name}-finetuned-ner\"\n",
    "args = TrainingArguments(\n",
    "    output_dir=output_dir,\n",
    "    evaluation_strategy = \"epoch\",\n",
    "    save_strategy=\"epoch\",\n",
    "    load_best_model_at_end=True,\n",
    "    learning_rate=2e-5,\n",
    "    per_device_train_batch_size=batch_size,\n",
    "    per_device_eval_batch_size=batch_size,\n",
    "    num_train_epochs=10,\n",
    "    weight_decay=0.01,\n",
    "    push_to_hub=False,\n",
    ")"
   ]
  },
  {
   "cell_type": "markdown",
   "metadata": {
    "id": "km3pGVdTIrJc"
   },
   "source": [
    "Here we set the evaluation to be done at the end of each epoch, tweak the learning rate, use the `batch_size` defined at the top of the notebook and customize the number of epochs for training, as well as the weight decay.\n",
    "\n",
    "The last argument to setup everything so we can push the model to the [Hub](https://huggingface.co/models) regularly during training. Remove it if you didn't follow the installation steps at the top of the notebook. If you want to save your model locally in a name that is different than the name of the repository it will be pushed, or if you want to push your model under an organization and not your name space, use the `hub_model_id` argument to set the repo name (it needs to be the full name, including your namespace: for instance `\"sgugger/bert-finetuned-ner\"` or `\"huggingface/bert-finetuned-ner\"`)."
   ]
  },
  {
   "cell_type": "markdown",
   "metadata": {
    "id": "MrJreGpHSdyl"
   },
   "source": [
    "Then we will need a data collator that will batch our processed examples together while applying padding to make them all the same size (each pad will be padded to the length of its longest example). There is a data collator for this task in the Transformers library, that not only pads the inputs, but also the labels:"
   ]
  },
  {
   "cell_type": "code",
   "execution_count": 99,
   "metadata": {
    "id": "C68Vy2goSdyl"
   },
   "outputs": [],
   "source": [
    "from transformers import DataCollatorForTokenClassification\n",
    "\n",
    "data_collator = DataCollatorForTokenClassification(tokenizer)"
   ]
  },
  {
   "cell_type": "markdown",
   "metadata": {
    "id": "q7B2s1o_Sdyl"
   },
   "source": [
    "The last thing to define for our `Trainer` is how to compute the metrics from the predictions. Here we will load the [`seqeval`](https://github.com/chakki-works/seqeval) metric (which is commonly used to evaluate results on the CONLL dataset) via the Datasets library."
   ]
  },
  {
   "cell_type": "code",
   "execution_count": 100,
   "metadata": {
    "id": "GZbCZRiZSdyl"
   },
   "outputs": [],
   "source": [
    "metric = load_metric(\"seqeval\")"
   ]
  },
  {
   "cell_type": "markdown",
   "metadata": {
    "id": "-q6j9pilSdyl"
   },
   "source": [
    "This metric takes list of labels for the predictions and references:"
   ]
  },
  {
   "cell_type": "code",
   "execution_count": 101,
   "metadata": {
    "id": "FsZKuOuzSdym",
    "outputId": "0f3ac67a-c9f6-4055-9fc2-cacf80d16d23"
   },
   "outputs": [
    {
     "data": {
      "text/plain": [
       "{'overall_precision': 0.0,\n",
       " 'overall_recall': 0.0,\n",
       " 'overall_f1': 0.0,\n",
       " 'overall_accuracy': 1.0}"
      ]
     },
     "execution_count": 101,
     "metadata": {},
     "output_type": "execute_result"
    }
   ],
   "source": [
    "labels = [label_list[i] for i in example[f\"ner_tags\"]]\n",
    "metric.compute(predictions=[labels], references=[labels])"
   ]
  },
  {
   "cell_type": "markdown",
   "metadata": {
    "id": "7sZOdRlRIrJd"
   },
   "source": [
    "So we will need to do a bit of post-processing on our predictions:\n",
    "- select the predicted index (with the maximum logit) for each token\n",
    "- convert it to its string label\n",
    "- ignore everywhere we set a label of -100\n",
    "\n",
    "The following function does all this post-processing on the result of `Trainer.evaluate` (which is a namedtuple containing predictions and labels) before applying the metric:"
   ]
  },
  {
   "cell_type": "code",
   "execution_count": 102,
   "metadata": {
    "id": "UmvbnJ9JIrJd"
   },
   "outputs": [],
   "source": [
    "import numpy as np\n",
    "\n",
    "def compute_metrics(p):\n",
    "    predictions, labels = p\n",
    "    predictions = np.argmax(predictions, axis=2)\n",
    "\n",
    "    # Remove ignored index (special tokens)\n",
    "    true_predictions = [\n",
    "        [label_list[p] for (p, l) in zip(prediction, label) if l != -100]\n",
    "        for prediction, label in zip(predictions, labels)\n",
    "    ]\n",
    "    true_labels = [\n",
    "        [label_list[l] for (p, l) in zip(prediction, label) if l != -100]\n",
    "        for prediction, label in zip(predictions, labels)\n",
    "    ]\n",
    "\n",
    "    results = metric.compute(predictions=true_predictions, references=true_labels)\n",
    "    return {\n",
    "        \"precision\": results[\"overall_precision\"],\n",
    "        \"recall\": results[\"overall_recall\"],\n",
    "        \"f1\": results[\"overall_f1\"],\n",
    "        \"accuracy\": results[\"overall_accuracy\"],\n",
    "    }"
   ]
  },
  {
   "cell_type": "markdown",
   "metadata": {
    "id": "rXuFTAzDIrJe"
   },
   "source": [
    "Note that we drop the precision/recall/f1 computed for each category and only focus on the overall precision/recall/f1/accuracy.\n",
    "\n",
    "Then we just need to pass all of this along with our datasets to the `Trainer`:"
   ]
  },
  {
   "cell_type": "code",
   "execution_count": 103,
   "metadata": {
    "id": "imY1oC3SIrJf"
   },
   "outputs": [],
   "source": [
    "trainer = Trainer(\n",
    "    model,\n",
    "    args,\n",
    "    train_dataset=tokenized_datasets[\"train\"],\n",
    "    eval_dataset=tokenized_datasets[\"validation\"],\n",
    "    data_collator=data_collator,\n",
    "    tokenizer=tokenizer,\n",
    "    compute_metrics=compute_metrics\n",
    ")"
   ]
  },
  {
   "cell_type": "markdown",
   "metadata": {
    "id": "CdzABDVcIrJg"
   },
   "source": [
    "We can now finetune our model by just calling the `train` method:"
   ]
  },
  {
   "cell_type": "code",
   "execution_count": 104,
   "metadata": {
    "id": "OwzTtEAcSdyo",
    "outputId": "614064a2-8cb4-42ed-e894-482309474e8e"
   },
   "outputs": [
    {
     "name": "stderr",
     "output_type": "stream",
     "text": [
      "The following columns in the training set  don't have a corresponding argument in `DistilBertForTokenClassification.forward` and have been ignored: tokens, ner_tags, id. If tokens, ner_tags, id are not expected by `DistilBertForTokenClassification.forward`,  you can safely ignore this message.\n",
      "/home/ai/miniconda3/envs/torch_gpu/lib/python3.9/site-packages/transformers/optimization.py:306: FutureWarning: This implementation of AdamW is deprecated and will be removed in a future version. Use the PyTorch implementation torch.optim.AdamW instead, or set `no_deprecation_warning=True` to disable this warning\n",
      "  warnings.warn(\n",
      "***** Running training *****\n",
      "  Num examples = 12290\n",
      "  Num Epochs = 10\n",
      "  Instantaneous batch size per device = 64\n",
      "  Total train batch size (w. parallel, distributed & accumulation) = 64\n",
      "  Gradient Accumulation steps = 1\n",
      "  Total optimization steps = 1930\n"
     ]
    },
    {
     "data": {
      "text/html": [
       "\n",
       "    <div>\n",
       "      \n",
       "      <progress value='1930' max='1930' style='width:300px; height:20px; vertical-align: middle;'></progress>\n",
       "      [1930/1930 04:22, Epoch 10/10]\n",
       "    </div>\n",
       "    <table border=\"1\" class=\"dataframe\">\n",
       "  <thead>\n",
       " <tr style=\"text-align: left;\">\n",
       "      <th>Epoch</th>\n",
       "      <th>Training Loss</th>\n",
       "      <th>Validation Loss</th>\n",
       "      <th>Precision</th>\n",
       "      <th>Recall</th>\n",
       "      <th>F1</th>\n",
       "      <th>Accuracy</th>\n",
       "    </tr>\n",
       "  </thead>\n",
       "  <tbody>\n",
       "    <tr>\n",
       "      <td>1</td>\n",
       "      <td>No log</td>\n",
       "      <td>0.095497</td>\n",
       "      <td>0.710184</td>\n",
       "      <td>0.707774</td>\n",
       "      <td>0.708977</td>\n",
       "      <td>0.970442</td>\n",
       "    </tr>\n",
       "    <tr>\n",
       "      <td>2</td>\n",
       "      <td>No log</td>\n",
       "      <td>0.066796</td>\n",
       "      <td>0.787962</td>\n",
       "      <td>0.805281</td>\n",
       "      <td>0.796527</td>\n",
       "      <td>0.978986</td>\n",
       "    </tr>\n",
       "    <tr>\n",
       "      <td>3</td>\n",
       "      <td>0.139100</td>\n",
       "      <td>0.053783</td>\n",
       "      <td>0.840185</td>\n",
       "      <td>0.856173</td>\n",
       "      <td>0.848104</td>\n",
       "      <td>0.984164</td>\n",
       "    </tr>\n",
       "    <tr>\n",
       "      <td>4</td>\n",
       "      <td>0.139100</td>\n",
       "      <td>0.047197</td>\n",
       "      <td>0.861048</td>\n",
       "      <td>0.887594</td>\n",
       "      <td>0.874119</td>\n",
       "      <td>0.986866</td>\n",
       "    </tr>\n",
       "    <tr>\n",
       "      <td>5</td>\n",
       "      <td>0.139100</td>\n",
       "      <td>0.042697</td>\n",
       "      <td>0.892174</td>\n",
       "      <td>0.894675</td>\n",
       "      <td>0.893423</td>\n",
       "      <td>0.988830</td>\n",
       "    </tr>\n",
       "    <tr>\n",
       "      <td>6</td>\n",
       "      <td>0.029600</td>\n",
       "      <td>0.040122</td>\n",
       "      <td>0.899985</td>\n",
       "      <td>0.913262</td>\n",
       "      <td>0.906575</td>\n",
       "      <td>0.990047</td>\n",
       "    </tr>\n",
       "    <tr>\n",
       "      <td>7</td>\n",
       "      <td>0.029600</td>\n",
       "      <td>0.038046</td>\n",
       "      <td>0.911773</td>\n",
       "      <td>0.920785</td>\n",
       "      <td>0.916257</td>\n",
       "      <td>0.991012</td>\n",
       "    </tr>\n",
       "    <tr>\n",
       "      <td>8</td>\n",
       "      <td>0.013100</td>\n",
       "      <td>0.038597</td>\n",
       "      <td>0.921479</td>\n",
       "      <td>0.922702</td>\n",
       "      <td>0.922090</td>\n",
       "      <td>0.991532</td>\n",
       "    </tr>\n",
       "    <tr>\n",
       "      <td>9</td>\n",
       "      <td>0.013100</td>\n",
       "      <td>0.038304</td>\n",
       "      <td>0.921857</td>\n",
       "      <td>0.925800</td>\n",
       "      <td>0.923824</td>\n",
       "      <td>0.991666</td>\n",
       "    </tr>\n",
       "    <tr>\n",
       "      <td>10</td>\n",
       "      <td>0.013100</td>\n",
       "      <td>0.038131</td>\n",
       "      <td>0.920779</td>\n",
       "      <td>0.927570</td>\n",
       "      <td>0.924162</td>\n",
       "      <td>0.991666</td>\n",
       "    </tr>\n",
       "  </tbody>\n",
       "</table><p>"
      ],
      "text/plain": [
       "<IPython.core.display.HTML object>"
      ]
     },
     "metadata": {},
     "output_type": "display_data"
    },
    {
     "name": "stderr",
     "output_type": "stream",
     "text": [
      "The following columns in the evaluation set  don't have a corresponding argument in `DistilBertForTokenClassification.forward` and have been ignored: tokens, ner_tags, id. If tokens, ner_tags, id are not expected by `DistilBertForTokenClassification.forward`,  you can safely ignore this message.\n",
      "***** Running Evaluation *****\n",
      "  Num examples = 3074\n",
      "  Batch size = 64\n",
      "The following columns in the evaluation set  don't have a corresponding argument in `DistilBertForTokenClassification.forward` and have been ignored: tokens, ner_tags, id. If tokens, ner_tags, id are not expected by `DistilBertForTokenClassification.forward`,  you can safely ignore this message.\n",
      "***** Running Evaluation *****\n",
      "  Num examples = 3074\n",
      "  Batch size = 64\n",
      "Saving model checkpoint to distilbert-fa-zwnj-base-finetuned-ner/checkpoint-500\n",
      "Configuration saved in distilbert-fa-zwnj-base-finetuned-ner/checkpoint-500/config.json\n",
      "Model weights saved in distilbert-fa-zwnj-base-finetuned-ner/checkpoint-500/pytorch_model.bin\n",
      "tokenizer config file saved in distilbert-fa-zwnj-base-finetuned-ner/checkpoint-500/tokenizer_config.json\n",
      "Special tokens file saved in distilbert-fa-zwnj-base-finetuned-ner/checkpoint-500/special_tokens_map.json\n",
      "The following columns in the evaluation set  don't have a corresponding argument in `DistilBertForTokenClassification.forward` and have been ignored: tokens, ner_tags, id. If tokens, ner_tags, id are not expected by `DistilBertForTokenClassification.forward`,  you can safely ignore this message.\n",
      "***** Running Evaluation *****\n",
      "  Num examples = 3074\n",
      "  Batch size = 64\n",
      "The following columns in the evaluation set  don't have a corresponding argument in `DistilBertForTokenClassification.forward` and have been ignored: tokens, ner_tags, id. If tokens, ner_tags, id are not expected by `DistilBertForTokenClassification.forward`,  you can safely ignore this message.\n",
      "***** Running Evaluation *****\n",
      "  Num examples = 3074\n",
      "  Batch size = 64\n",
      "The following columns in the evaluation set  don't have a corresponding argument in `DistilBertForTokenClassification.forward` and have been ignored: tokens, ner_tags, id. If tokens, ner_tags, id are not expected by `DistilBertForTokenClassification.forward`,  you can safely ignore this message.\n",
      "***** Running Evaluation *****\n",
      "  Num examples = 3074\n",
      "  Batch size = 64\n",
      "Saving model checkpoint to distilbert-fa-zwnj-base-finetuned-ner/checkpoint-1000\n",
      "Configuration saved in distilbert-fa-zwnj-base-finetuned-ner/checkpoint-1000/config.json\n",
      "Model weights saved in distilbert-fa-zwnj-base-finetuned-ner/checkpoint-1000/pytorch_model.bin\n",
      "tokenizer config file saved in distilbert-fa-zwnj-base-finetuned-ner/checkpoint-1000/tokenizer_config.json\n",
      "Special tokens file saved in distilbert-fa-zwnj-base-finetuned-ner/checkpoint-1000/special_tokens_map.json\n",
      "The following columns in the evaluation set  don't have a corresponding argument in `DistilBertForTokenClassification.forward` and have been ignored: tokens, ner_tags, id. If tokens, ner_tags, id are not expected by `DistilBertForTokenClassification.forward`,  you can safely ignore this message.\n",
      "***** Running Evaluation *****\n",
      "  Num examples = 3074\n",
      "  Batch size = 64\n",
      "The following columns in the evaluation set  don't have a corresponding argument in `DistilBertForTokenClassification.forward` and have been ignored: tokens, ner_tags, id. If tokens, ner_tags, id are not expected by `DistilBertForTokenClassification.forward`,  you can safely ignore this message.\n",
      "***** Running Evaluation *****\n",
      "  Num examples = 3074\n",
      "  Batch size = 64\n",
      "Saving model checkpoint to distilbert-fa-zwnj-base-finetuned-ner/checkpoint-1500\n",
      "Configuration saved in distilbert-fa-zwnj-base-finetuned-ner/checkpoint-1500/config.json\n",
      "Model weights saved in distilbert-fa-zwnj-base-finetuned-ner/checkpoint-1500/pytorch_model.bin\n",
      "tokenizer config file saved in distilbert-fa-zwnj-base-finetuned-ner/checkpoint-1500/tokenizer_config.json\n",
      "Special tokens file saved in distilbert-fa-zwnj-base-finetuned-ner/checkpoint-1500/special_tokens_map.json\n",
      "The following columns in the evaluation set  don't have a corresponding argument in `DistilBertForTokenClassification.forward` and have been ignored: tokens, ner_tags, id. If tokens, ner_tags, id are not expected by `DistilBertForTokenClassification.forward`,  you can safely ignore this message.\n",
      "***** Running Evaluation *****\n",
      "  Num examples = 3074\n",
      "  Batch size = 64\n",
      "The following columns in the evaluation set  don't have a corresponding argument in `DistilBertForTokenClassification.forward` and have been ignored: tokens, ner_tags, id. If tokens, ner_tags, id are not expected by `DistilBertForTokenClassification.forward`,  you can safely ignore this message.\n",
      "***** Running Evaluation *****\n",
      "  Num examples = 3074\n",
      "  Batch size = 64\n",
      "The following columns in the evaluation set  don't have a corresponding argument in `DistilBertForTokenClassification.forward` and have been ignored: tokens, ner_tags, id. If tokens, ner_tags, id are not expected by `DistilBertForTokenClassification.forward`,  you can safely ignore this message.\n",
      "***** Running Evaluation *****\n",
      "  Num examples = 3074\n",
      "  Batch size = 64\n",
      "\n",
      "\n",
      "Training completed. Do not forget to share your model on huggingface.co/models =)\n",
      "\n",
      "\n"
     ]
    },
    {
     "data": {
      "text/plain": [
       "TrainOutput(global_step=1930, training_loss=0.049034051326890066, metrics={'train_runtime': 263.5362, 'train_samples_per_second': 466.35, 'train_steps_per_second': 7.323, 'total_flos': 3985897424300340.0, 'train_loss': 0.049034051326890066, 'epoch': 10.0})"
      ]
     },
     "execution_count": 104,
     "metadata": {},
     "output_type": "execute_result"
    }
   ],
   "source": [
    "trainer.train()"
   ]
  },
  {
   "cell_type": "markdown",
   "metadata": {
    "id": "CKASz-2vIrJi"
   },
   "source": [
    "The `evaluate` method allows you to evaluate again on the evaluation dataset or on another dataset:"
   ]
  },
  {
   "cell_type": "code",
   "execution_count": 105,
   "metadata": {
    "id": "UOUcBkX8IrJi",
    "outputId": "de5b9dd6-9dc0-4702-cb43-55e9829fde25"
   },
   "outputs": [
    {
     "name": "stderr",
     "output_type": "stream",
     "text": [
      "The following columns in the evaluation set  don't have a corresponding argument in `DistilBertForTokenClassification.forward` and have been ignored: tokens, ner_tags, id. If tokens, ner_tags, id are not expected by `DistilBertForTokenClassification.forward`,  you can safely ignore this message.\n",
      "***** Running Evaluation *****\n",
      "  Num examples = 3074\n",
      "  Batch size = 64\n"
     ]
    },
    {
     "data": {
      "text/html": [
       "\n",
       "    <div>\n",
       "      \n",
       "      <progress value='114' max='49' style='width:300px; height:20px; vertical-align: middle;'></progress>\n",
       "      [49/49 1:59:11]\n",
       "    </div>\n",
       "    "
      ],
      "text/plain": [
       "<IPython.core.display.HTML object>"
      ]
     },
     "metadata": {},
     "output_type": "display_data"
    },
    {
     "data": {
      "text/plain": [
       "{'eval_loss': 0.038130514323711395,\n",
       " 'eval_precision': 0.9207790306047737,\n",
       " 'eval_recall': 0.9275704381177164,\n",
       " 'eval_f1': 0.9241622574955908,\n",
       " 'eval_accuracy': 0.9916664568594376,\n",
       " 'eval_runtime': 3.1569,\n",
       " 'eval_samples_per_second': 973.744,\n",
       " 'eval_steps_per_second': 15.522,\n",
       " 'epoch': 10.0}"
      ]
     },
     "execution_count": 105,
     "metadata": {},
     "output_type": "execute_result"
    }
   ],
   "source": [
    "trainer.evaluate()"
   ]
  },
  {
   "cell_type": "markdown",
   "metadata": {
    "id": "y1ssV_tcSdyo"
   },
   "source": [
    "To get the precision/recall/f1 computed for each category now that we have finished training, we can apply the same function as before on the result of the `predict` method:"
   ]
  },
  {
   "cell_type": "code",
   "execution_count": 106,
   "metadata": {
    "id": "KgdEmGRRSdyo",
    "outputId": "67763367-b857-4b96-f7a4-99b4555ad6c7"
   },
   "outputs": [
    {
     "name": "stderr",
     "output_type": "stream",
     "text": [
      "The following columns in the test set  don't have a corresponding argument in `DistilBertForTokenClassification.forward` and have been ignored: tokens, ner_tags, id. If tokens, ner_tags, id are not expected by `DistilBertForTokenClassification.forward`,  you can safely ignore this message.\n",
      "***** Running Prediction *****\n",
      "  Num examples = 3074\n",
      "  Batch size = 64\n"
     ]
    },
    {
     "data": {
      "text/plain": [
       "{'event': {'precision': 0.78125,\n",
       "  'recall': 0.8587786259541985,\n",
       "  'f1': 0.8181818181818182,\n",
       "  'number': 262},\n",
       " 'fac': {'precision': 0.9353448275862069,\n",
       "  'recall': 0.9730941704035875,\n",
       "  'f1': 0.9538461538461539,\n",
       "  'number': 223},\n",
       " 'loc': {'precision': 0.9452789699570815,\n",
       "  'recall': 0.9303062302006336,\n",
       "  'f1': 0.9377328366152209,\n",
       "  'number': 1894},\n",
       " 'org': {'precision': 0.8862921348314606,\n",
       "  'recall': 0.928436911487759,\n",
       "  'f1': 0.906875143711198,\n",
       "  'number': 2124},\n",
       " 'pers': {'precision': 0.9637959407569939,\n",
       "  'recall': 0.9648544755628775,\n",
       "  'f1': 0.9643249176728869,\n",
       "  'number': 1821},\n",
       " 'pro': {'precision': 0.8942065491183879,\n",
       "  'recall': 0.7802197802197802,\n",
       "  'f1': 0.8333333333333333,\n",
       "  'number': 455},\n",
       " 'overall_precision': 0.9207790306047737,\n",
       " 'overall_recall': 0.9275704381177164,\n",
       " 'overall_f1': 0.9241622574955908,\n",
       " 'overall_accuracy': 0.9916664568594376}"
      ]
     },
     "execution_count": 106,
     "metadata": {},
     "output_type": "execute_result"
    }
   ],
   "source": [
    "predictions, labels, _ = trainer.predict(tokenized_datasets[\"validation\"])\n",
    "predictions = np.argmax(predictions, axis=2)\n",
    "\n",
    "# Remove ignored index (special tokens)\n",
    "true_predictions = [\n",
    "    [label_list[p] for (p, l) in zip(prediction, label) if l != -100]\n",
    "    for prediction, label in zip(predictions, labels)\n",
    "]\n",
    "true_labels = [\n",
    "    [label_list[l] for (p, l) in zip(prediction, label) if l != -100]\n",
    "    for prediction, label in zip(predictions, labels)\n",
    "]\n",
    "\n",
    "results = metric.compute(predictions=true_predictions, references=true_labels)\n",
    "results"
   ]
  },
  {
   "cell_type": "markdown",
   "metadata": {
    "id": "a5fp3RzZSdyp"
   },
   "source": [
    "You can now upload the result of the training to the Hub, just execute this instruction:"
   ]
  },
  {
   "cell_type": "code",
   "execution_count": null,
   "metadata": {
    "id": "FpFN8tz7Sdyp"
   },
   "outputs": [],
   "source": [
    "# trainer.push_to_hub()"
   ]
  },
  {
   "cell_type": "markdown",
   "metadata": {
    "id": "w4FzM68tSdyp"
   },
   "source": [
    "You can now share this model with all your friends, family, favorite pets: they can all load it with the identifier `\"your-username/the-name-you-picked\"` so for instance:\n",
    "\n",
    "```python\n",
    "from transformers import AutoModelForTokenClassification\n",
    "\n",
    "model = AutoModelForTokenClassification.from_pretrained(\"sgugger/my-awesome-model\")\n",
    "```"
   ]
  },
  {
   "cell_type": "code",
   "execution_count": 176,
   "metadata": {},
   "outputs": [
    {
     "name": "stderr",
     "output_type": "stream",
     "text": [
      "Saving model checkpoint to distilbert-fa-zwnj-base-finetuned-ner/best\n",
      "Configuration saved in distilbert-fa-zwnj-base-finetuned-ner/best/config.json\n",
      "Model weights saved in distilbert-fa-zwnj-base-finetuned-ner/best/pytorch_model.bin\n",
      "tokenizer config file saved in distilbert-fa-zwnj-base-finetuned-ner/best/tokenizer_config.json\n",
      "Special tokens file saved in distilbert-fa-zwnj-base-finetuned-ner/best/special_tokens_map.json\n"
     ]
    }
   ],
   "source": [
    "trainer.save_model(os.path.join(output_dir, \"best\"))"
   ]
  },
  {
   "cell_type": "markdown",
   "metadata": {},
   "source": [
    "## Testing with trainer"
   ]
  },
  {
   "cell_type": "code",
   "execution_count": 259,
   "metadata": {
    "scrolled": true
   },
   "outputs": [
    {
     "name": "stderr",
     "output_type": "stream",
     "text": [
      "***** Running Prediction *****\n",
      "  Num examples = 1\n",
      "  Batch size = 64\n"
     ]
    },
    {
     "name": "stdout",
     "output_type": "stream",
     "text": [
      "[CLS]  ->  O\n",
      "پویا  ->  B-pers\n",
      "محمدی  ->  I-pers\n",
      "در  ->  O\n",
      "سازمان  ->  B-org\n",
      "کشاورزی  ->  I-org\n",
      "چه  ->  O\n",
      "کاری  ->  O\n",
      "میتواند  ->  O\n",
      "بکند  ->  O\n",
      "؟  ->  O\n",
      "[SEP]  ->  O\n"
     ]
    }
   ],
   "source": [
    "example = \"پویا محمدی در سازمان کشاورزی چه کاری میتواند بکند ؟\"\n",
    "tokens = tokenizer(example)\n",
    "predictions, labels, _ = trainer.predict([tokens])\n",
    "predictions = np.argmax(predictions, axis=2)\n",
    "true_predictions = [[label_list[p] for p in prediction] for prediction in predictions]\n",
    "for t, t_p in zip(tokenizer.decode(token_ids=tokens['input_ids']).split(\" \"), true_predictions[0]):\n",
    "    print(t, \" -> \", t_p)"
   ]
  },
  {
   "cell_type": "markdown",
   "metadata": {},
   "source": [
    "## Test"
   ]
  },
  {
   "cell_type": "code",
   "execution_count": 184,
   "metadata": {},
   "outputs": [
    {
     "name": "stderr",
     "output_type": "stream",
     "text": [
      "loading configuration file https://huggingface.co/HooshvareLab/distilbert-fa-zwnj-base/resolve/main/config.json from cache at /home/ai/.cache/huggingface/transformers/448dd43db49d55aa2c264067c88728f01c15a91c25d470424fcabaea1500d779.03ba9625e6a5212fb76a3b52e259247b2de1a56115fcdbbc91363a663c7e1966\n",
      "Model config DistilBertConfig {\n",
      "  \"_name_or_path\": \"HooshvareLab/distilbert-fa-zwnj-base\",\n",
      "  \"activation\": \"gelu\",\n",
      "  \"architectures\": [\n",
      "    \"DistilBertForMaskedLM\"\n",
      "  ],\n",
      "  \"attention_dropout\": 0.1,\n",
      "  \"dim\": 768,\n",
      "  \"dropout\": 0.1,\n",
      "  \"hidden_dim\": 3072,\n",
      "  \"initializer_range\": 0.02,\n",
      "  \"max_position_embeddings\": 512,\n",
      "  \"model_type\": \"distilbert\",\n",
      "  \"n_heads\": 12,\n",
      "  \"n_layers\": 6,\n",
      "  \"output_past\": true,\n",
      "  \"pad_token_id\": 0,\n",
      "  \"qa_dropout\": 0.1,\n",
      "  \"seq_classif_dropout\": 0.2,\n",
      "  \"sinusoidal_pos_embds\": false,\n",
      "  \"tie_weights_\": true,\n",
      "  \"transformers_version\": \"4.18.0\",\n",
      "  \"vocab_size\": 42000\n",
      "}\n",
      "\n",
      "loading file https://huggingface.co/HooshvareLab/distilbert-fa-zwnj-base/resolve/main/vocab.txt from cache at /home/ai/.cache/huggingface/transformers/9d4c4644c088b605c9c6385d5fa6e4877624e2cd266487000f7fbb3028c8f664.75ba9b0b397e5ff811df7979fa501544a6dfde55eb643e16f670d7aa16f81c1d\n",
      "loading file https://huggingface.co/HooshvareLab/distilbert-fa-zwnj-base/resolve/main/tokenizer.json from cache at /home/ai/.cache/huggingface/transformers/bd576d2be0b0eb50c8065622529c0388c2f8a97b4218fa709eb0243e0ae166f4.473194e90cfe872b63370ba003df2403b89fffe014fa356ea877b47f35f125fe\n",
      "loading file https://huggingface.co/HooshvareLab/distilbert-fa-zwnj-base/resolve/main/added_tokens.json from cache at None\n",
      "loading file https://huggingface.co/HooshvareLab/distilbert-fa-zwnj-base/resolve/main/special_tokens_map.json from cache at /home/ai/.cache/huggingface/transformers/7eafc0d3e988a26074239946bb4f03305aa564adae6f18becf923d75d9f44f6b.f982506b52498d4adb4bd491f593dc92b2ef6be61bfdbe9d30f53f963f9f5b66\n",
      "loading file https://huggingface.co/HooshvareLab/distilbert-fa-zwnj-base/resolve/main/tokenizer_config.json from cache at /home/ai/.cache/huggingface/transformers/6b2be746687d5aeddfeef82e23fd3b98f740a21b8b881bba03485c929663b00f.abf572b0d3e0408e681fd99e81aca6441495ec08464c3ff2706cba4d3d618254\n",
      "loading configuration file https://huggingface.co/HooshvareLab/distilbert-fa-zwnj-base/resolve/main/config.json from cache at /home/ai/.cache/huggingface/transformers/448dd43db49d55aa2c264067c88728f01c15a91c25d470424fcabaea1500d779.03ba9625e6a5212fb76a3b52e259247b2de1a56115fcdbbc91363a663c7e1966\n",
      "Model config DistilBertConfig {\n",
      "  \"_name_or_path\": \"HooshvareLab/distilbert-fa-zwnj-base\",\n",
      "  \"activation\": \"gelu\",\n",
      "  \"architectures\": [\n",
      "    \"DistilBertForMaskedLM\"\n",
      "  ],\n",
      "  \"attention_dropout\": 0.1,\n",
      "  \"dim\": 768,\n",
      "  \"dropout\": 0.1,\n",
      "  \"hidden_dim\": 3072,\n",
      "  \"initializer_range\": 0.02,\n",
      "  \"max_position_embeddings\": 512,\n",
      "  \"model_type\": \"distilbert\",\n",
      "  \"n_heads\": 12,\n",
      "  \"n_layers\": 6,\n",
      "  \"output_past\": true,\n",
      "  \"pad_token_id\": 0,\n",
      "  \"qa_dropout\": 0.1,\n",
      "  \"seq_classif_dropout\": 0.2,\n",
      "  \"sinusoidal_pos_embds\": false,\n",
      "  \"tie_weights_\": true,\n",
      "  \"transformers_version\": \"4.18.0\",\n",
      "  \"vocab_size\": 42000\n",
      "}\n",
      "\n",
      "loading configuration file distilbert-fa-zwnj-base-finetuned-ner/best/config.json\n",
      "Model config DistilBertConfig {\n",
      "  \"_name_or_path\": \"distilbert-fa-zwnj-base-finetuned-ner/best\",\n",
      "  \"activation\": \"gelu\",\n",
      "  \"architectures\": [\n",
      "    \"DistilBertForTokenClassification\"\n",
      "  ],\n",
      "  \"attention_dropout\": 0.1,\n",
      "  \"dim\": 768,\n",
      "  \"dropout\": 0.1,\n",
      "  \"hidden_dim\": 3072,\n",
      "  \"id2label\": {\n",
      "    \"0\": \"LABEL_0\",\n",
      "    \"1\": \"LABEL_1\",\n",
      "    \"2\": \"LABEL_2\",\n",
      "    \"3\": \"LABEL_3\",\n",
      "    \"4\": \"LABEL_4\",\n",
      "    \"5\": \"LABEL_5\",\n",
      "    \"6\": \"LABEL_6\",\n",
      "    \"7\": \"LABEL_7\",\n",
      "    \"8\": \"LABEL_8\",\n",
      "    \"9\": \"LABEL_9\",\n",
      "    \"10\": \"LABEL_10\",\n",
      "    \"11\": \"LABEL_11\",\n",
      "    \"12\": \"LABEL_12\"\n",
      "  },\n",
      "  \"initializer_range\": 0.02,\n",
      "  \"label2id\": {\n",
      "    \"LABEL_0\": 0,\n",
      "    \"LABEL_1\": 1,\n",
      "    \"LABEL_10\": 10,\n",
      "    \"LABEL_11\": 11,\n",
      "    \"LABEL_12\": 12,\n",
      "    \"LABEL_2\": 2,\n",
      "    \"LABEL_3\": 3,\n",
      "    \"LABEL_4\": 4,\n",
      "    \"LABEL_5\": 5,\n",
      "    \"LABEL_6\": 6,\n",
      "    \"LABEL_7\": 7,\n",
      "    \"LABEL_8\": 8,\n",
      "    \"LABEL_9\": 9\n",
      "  },\n",
      "  \"max_position_embeddings\": 512,\n",
      "  \"model_type\": \"distilbert\",\n",
      "  \"n_heads\": 12,\n",
      "  \"n_layers\": 6,\n",
      "  \"output_past\": true,\n",
      "  \"pad_token_id\": 0,\n",
      "  \"qa_dropout\": 0.1,\n",
      "  \"seq_classif_dropout\": 0.2,\n",
      "  \"sinusoidal_pos_embds\": false,\n",
      "  \"tie_weights_\": true,\n",
      "  \"torch_dtype\": \"float32\",\n",
      "  \"transformers_version\": \"4.18.0\",\n",
      "  \"vocab_size\": 42000\n",
      "}\n",
      "\n",
      "loading weights file distilbert-fa-zwnj-base-finetuned-ner/best/pytorch_model.bin\n",
      "All model checkpoint weights were used when initializing DistilBertForTokenClassification.\n",
      "\n",
      "All the weights of DistilBertForTokenClassification were initialized from the model checkpoint at distilbert-fa-zwnj-base-finetuned-ner/best.\n",
      "If your task is similar to the task the model of the checkpoint was trained on, you can already use DistilBertForTokenClassification for predictions without further training.\n"
     ]
    }
   ],
   "source": [
    "# load model and tokenizer\n",
    "from transformers import AutoModelForTokenClassification\n",
    "from transformers import AutoTokenizer\n",
    "import torch\n",
    "\n",
    "device = \"cuda\"\n",
    "model_type = \"HooshvareLab/distilbert-fa-zwnj-base\"\n",
    "model_checkpoint = os.path.join(output_dir, \"best\")\n",
    "tokenizer = AutoTokenizer.from_pretrained(model_type)\n",
    "model = AutoModelForTokenClassification.from_pretrained(model_checkpoint, num_labels=len(label_list)).to(device)"
   ]
  },
  {
   "cell_type": "code",
   "execution_count": 256,
   "metadata": {},
   "outputs": [],
   "source": [
    "example = \"پویا محمدی در سازمان کشاورزی چه کاری میتواند بکند ؟\"\n",
    "tokens = tokenizer(example)\n",
    "input_ids = torch.tensor(tokens['input_ids']).unsqueeze(dim=0).to(device)\n",
    "attention_mask = torch.tensor(tokens['attention_mask']).unsqueeze(dim=0).to(device)\n",
    "with torch.no_grad():\n",
    "    out = model(input_ids=input_ids, attention_mask=attention_mask)[0]\n",
    "predictions = torch.argmax(out, axis=2).cpu()\n",
    "true_predictions = [[label_list[p] for p in prediction] for prediction in predictions]\n",
    "in_example = tokenizer.decode(token_ids=tokens['input_ids'])\n",
    "for t, t_p in zip(in_example.split(\" \"), true_predictions[0]):\n",
    "    print(t, \" -> \", t_p)"
   ]
  },
  {
   "cell_type": "markdown",
   "metadata": {},
   "source": [
    "_*:)*_"
   ]
  }
 ],
 "metadata": {
  "colab": {
   "name": "Token Classification",
   "provenance": []
  },
  "kernelspec": {
   "display_name": "Python 3 (ipykernel)",
   "language": "python",
   "name": "python3"
  },
  "language_info": {
   "codemirror_mode": {
    "name": "ipython",
    "version": 3
   },
   "file_extension": ".py",
   "mimetype": "text/x-python",
   "name": "python",
   "nbconvert_exporter": "python",
   "pygments_lexer": "ipython3",
   "version": "3.9.7"
  }
 },
 "nbformat": 4,
 "nbformat_minor": 1
}
